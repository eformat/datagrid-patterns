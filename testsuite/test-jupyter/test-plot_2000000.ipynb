{
 "cells": [
  {
   "cell_type": "code",
   "execution_count": 1,
   "metadata": {
    "collapsed": true
   },
   "outputs": [],
   "source": [
    "import urllib.request\n",
    "import json"
   ]
  },
  {
   "cell_type": "code",
   "execution_count": 2,
   "metadata": {
    "collapsed": true
   },
   "outputs": [],
   "source": [
    "url = 'http://localhost:3000/analytics'\n",
    "req = urllib.request.Request(url)"
   ]
  },
  {
   "cell_type": "code",
   "execution_count": 3,
   "metadata": {
    "collapsed": true
   },
   "outputs": [],
   "source": [
    "r = urllib.request.urlopen(req).read()\n",
    "cont = json.loads(r.decode('utf-8'))"
   ]
  },
  {
   "cell_type": "code",
   "execution_count": 4,
   "metadata": {
    "collapsed": false
   },
   "outputs": [
    {
     "data": {
      "text/plain": [
       "{'0': 3060,\n",
       " '1': 703,\n",
       " '10': 2523,\n",
       " '11': 2488,\n",
       " '12': 2455,\n",
       " '13': 2573,\n",
       " '14': 2565,\n",
       " '15': 2762,\n",
       " '16': 3450,\n",
       " '17': 5961,\n",
       " '18': 8240,\n",
       " '19': 5865,\n",
       " '2': 324,\n",
       " '20': 3708,\n",
       " '21': 2846,\n",
       " '22': 2831,\n",
       " '23': 3519,\n",
       " '3': 264,\n",
       " '4': 214,\n",
       " '5': 1077,\n",
       " '6': 2577,\n",
       " '7': 4834,\n",
       " '8': 3708,\n",
       " '9': 2641}"
      ]
     },
     "execution_count": 4,
     "metadata": {},
     "output_type": "execute_result"
    }
   ],
   "source": [
    "cont['delayed_per_hour']"
   ]
  },
  {
   "cell_type": "code",
   "execution_count": 5,
   "metadata": {
    "collapsed": false
   },
   "outputs": [
    {
     "data": {
      "text/html": [
       "<div>\n",
       "<table border=\"1\" class=\"dataframe\">\n",
       "  <thead>\n",
       "    <tr style=\"text-align: right;\">\n",
       "      <th></th>\n",
       "      <th>delayed_per_hour</th>\n",
       "      <th>tot_per_hour</th>\n",
       "    </tr>\n",
       "  </thead>\n",
       "  <tbody>\n",
       "    <tr>\n",
       "      <th>0</th>\n",
       "      <td>3060</td>\n",
       "      <td>32422</td>\n",
       "    </tr>\n",
       "    <tr>\n",
       "      <th>1</th>\n",
       "      <td>703</td>\n",
       "      <td>5054</td>\n",
       "    </tr>\n",
       "    <tr>\n",
       "      <th>2</th>\n",
       "      <td>324</td>\n",
       "      <td>2322</td>\n",
       "    </tr>\n",
       "    <tr>\n",
       "      <th>3</th>\n",
       "      <td>264</td>\n",
       "      <td>2085</td>\n",
       "    </tr>\n",
       "    <tr>\n",
       "      <th>4</th>\n",
       "      <td>214</td>\n",
       "      <td>4059</td>\n",
       "    </tr>\n",
       "    <tr>\n",
       "      <th>5</th>\n",
       "      <td>1077</td>\n",
       "      <td>48913</td>\n",
       "    </tr>\n",
       "    <tr>\n",
       "      <th>6</th>\n",
       "      <td>2577</td>\n",
       "      <td>94803</td>\n",
       "    </tr>\n",
       "    <tr>\n",
       "      <th>7</th>\n",
       "      <td>4834</td>\n",
       "      <td>100536</td>\n",
       "    </tr>\n",
       "    <tr>\n",
       "      <th>8</th>\n",
       "      <td>3708</td>\n",
       "      <td>95243</td>\n",
       "    </tr>\n",
       "    <tr>\n",
       "      <th>9</th>\n",
       "      <td>2641</td>\n",
       "      <td>91253</td>\n",
       "    </tr>\n",
       "    <tr>\n",
       "      <th>10</th>\n",
       "      <td>2523</td>\n",
       "      <td>90242</td>\n",
       "    </tr>\n",
       "    <tr>\n",
       "      <th>11</th>\n",
       "      <td>2488</td>\n",
       "      <td>92339</td>\n",
       "    </tr>\n",
       "    <tr>\n",
       "      <th>12</th>\n",
       "      <td>2455</td>\n",
       "      <td>93883</td>\n",
       "    </tr>\n",
       "    <tr>\n",
       "      <th>13</th>\n",
       "      <td>2573</td>\n",
       "      <td>98518</td>\n",
       "    </tr>\n",
       "    <tr>\n",
       "      <th>14</th>\n",
       "      <td>2565</td>\n",
       "      <td>97545</td>\n",
       "    </tr>\n",
       "    <tr>\n",
       "      <th>15</th>\n",
       "      <td>2762</td>\n",
       "      <td>98338</td>\n",
       "    </tr>\n",
       "    <tr>\n",
       "      <th>16</th>\n",
       "      <td>3450</td>\n",
       "      <td>104866</td>\n",
       "    </tr>\n",
       "    <tr>\n",
       "      <th>17</th>\n",
       "      <td>5961</td>\n",
       "      <td>114361</td>\n",
       "    </tr>\n",
       "    <tr>\n",
       "      <th>18</th>\n",
       "      <td>8240</td>\n",
       "      <td>108375</td>\n",
       "    </tr>\n",
       "    <tr>\n",
       "      <th>19</th>\n",
       "      <td>5865</td>\n",
       "      <td>95967</td>\n",
       "    </tr>\n",
       "    <tr>\n",
       "      <th>20</th>\n",
       "      <td>3708</td>\n",
       "      <td>83516</td>\n",
       "    </tr>\n",
       "    <tr>\n",
       "      <th>21</th>\n",
       "      <td>2846</td>\n",
       "      <td>73223</td>\n",
       "    </tr>\n",
       "    <tr>\n",
       "      <th>22</th>\n",
       "      <td>2831</td>\n",
       "      <td>65186</td>\n",
       "    </tr>\n",
       "    <tr>\n",
       "      <th>23</th>\n",
       "      <td>3519</td>\n",
       "      <td>57039</td>\n",
       "    </tr>\n",
       "  </tbody>\n",
       "</table>\n",
       "</div>"
      ],
      "text/plain": [
       "    delayed_per_hour  tot_per_hour\n",
       "0               3060         32422\n",
       "1                703          5054\n",
       "2                324          2322\n",
       "3                264          2085\n",
       "4                214          4059\n",
       "5               1077         48913\n",
       "6               2577         94803\n",
       "7               4834        100536\n",
       "8               3708         95243\n",
       "9               2641         91253\n",
       "10              2523         90242\n",
       "11              2488         92339\n",
       "12              2455         93883\n",
       "13              2573         98518\n",
       "14              2565         97545\n",
       "15              2762         98338\n",
       "16              3450        104866\n",
       "17              5961        114361\n",
       "18              8240        108375\n",
       "19              5865         95967\n",
       "20              3708         83516\n",
       "21              2846         73223\n",
       "22              2831         65186\n",
       "23              3519         57039"
      ]
     },
     "execution_count": 5,
     "metadata": {},
     "output_type": "execute_result"
    }
   ],
   "source": [
    "import pandas as pd\n",
    "\n",
    "analytics = pd.read_json(path_or_buf=url,numpy=True)\n",
    "analytics"
   ]
  },
  {
   "cell_type": "code",
   "execution_count": 6,
   "metadata": {
    "collapsed": false
   },
   "outputs": [
    {
     "data": {
      "image/png": "[encoded data removed]",
      "text/plain": [
       "<matplotlib.figure.Figure at 0x10e31f780>"
      ]
     },
     "metadata": {},
     "output_type": "display_data"
    }
   ],
   "source": [
    "import numpy as np\n",
    "import pandas as pd\n",
    "import datetime\n",
    "from itertools import *\n",
    "import matplotlib.pyplot as plt\n",
    "from matplotlib.ticker import FuncFormatter\n",
    "from matplotlib import cm\n",
    "from matplotlib import mlab\n",
    "from mpl_toolkits.basemap import Basemap\n",
    "\n",
    "import matplotlib.pyplot as plt\n",
    "%matplotlib inline\n",
    "\n",
    "def to_percent(y, position):\n",
    "    s = str(100 * y)\n",
    "    return s + '%'\n",
    "    \n",
    "formatter_percent = FuncFormatter(to_percent)\n",
    "\n",
    "plot_delay_dist = (analytics.delayed_per_hour/analytics.tot_per_hour).plot(kind='bar', figsize=(16,12))\n",
    "plot_delay_dist.set_xlabel(\"hour of the day\", fontsize=17)\n",
    "plot_delay_dist.set_title('ratio of delayed trains, across  the day', fontsize=25)\n",
    "plot_delay_dist.tick_params(axis='both', which='major', labelsize=15)\n",
    "plot_delay_dist.yaxis.set_major_formatter(formatter_percent)"
   ]
  },
  {
   "cell_type": "code",
   "execution_count": null,
   "metadata": {
    "collapsed": true
   },
   "outputs": [],
   "source": [
    ""
   ]
  }
 ],
 "metadata": {
  "kernelspec": {
   "display_name": "Python 3",
   "language": "python",
   "name": "python3"
  },
  "language_info": {
   "codemirror_mode": {
    "name": "ipython",
    "version": 3.0
   },
   "file_extension": ".py",
   "mimetype": "text/x-python",
   "name": "python",
   "nbconvert_exporter": "python",
   "pygments_lexer": "ipython3",
   "version": "3.6.0"
  }
 },
 "nbformat": 4,
 "nbformat_minor": 0
}